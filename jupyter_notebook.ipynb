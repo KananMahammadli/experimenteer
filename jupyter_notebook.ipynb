{
 "cells": [
  {
   "cell_type": "markdown",
   "id": "0a62bef0",
   "metadata": {},
   "source": [
    "# 1. Import libraries."
   ]
  },
  {
   "cell_type": "code",
   "execution_count": null,
   "id": "88d3208f",
   "metadata": {},
   "outputs": [],
   "source": [
    "import pandas as pd\n",
    "from sklearn.model_selection import train_test_split\n",
    "from feature_engine.imputation import MeanMedianImputer\n",
    "from feature_engine.encoding import OneHotEncoder\n",
    "from feature_engine.outliers import OutlierTrimmer\n",
    "\n",
    "from sklearn.preprocessing import MinMaxScaler"
   ]
  },
  {
   "cell_type": "markdown",
   "id": "8ea318f5",
   "metadata": {},
   "source": [
    "# 2. Train test split"
   ]
  },
  {
   "cell_type": "code",
   "execution_count": null,
   "id": "312f0e4c",
   "metadata": {},
   "outputs": [],
   "source": [
    "df = pd.read_csv('titanic.csv')\n",
    "X = df.drop(columns='survived')\n",
    "y = df['survived']\n",
    "X_train, X_test, y_train, y_test= train_test_split(X,y,test_size=0.3,random_state=0,)        "
   ]
  },
  {
   "cell_type": "markdown",
   "id": "8773aee8",
   "metadata": {},
   "source": [
    "# 3. Missing value imputation"
   ]
  },
  {
   "cell_type": "code",
   "execution_count": null,
   "id": "fb2fa8bf",
   "metadata": {},
   "outputs": [],
   "source": [
    "imputer = MeanMedianImputer(imputation_method=\"mean\")\n",
    "imputer.fit(X_train)\n",
    "X_train = imputer.transform(X_train)\n",
    "X_test = imputer.transform(X_test)\n",
    "\n",
    "imputer = CategoricalImputer(imputation_method=\"frequent\")\n",
    "imputer.fit(X_train)\n",
    "X_train = imputer.transform(X_train)\n",
    "X_test = imputer.transform(X_test)"
   ]
  },
  {
   "cell_type": "markdown",
   "id": "80716235",
   "metadata": {},
   "source": [
    "# 4. Categorical Encoding"
   ]
  },
  {
   "cell_type": "code",
   "execution_count": null,
   "id": "bc1529fb",
   "metadata": {},
   "outputs": [],
   "source": [
    "encoder = OneHotEncoder(\n",
    "      variables=None,  # alternatively pass a list of variables\n",
    "      drop_last=True,  # to return k-1, use drop=false to return k dummies\n",
    "  )\n",
    "  encoder.fit(X_train)\n",
    "  X_train= encoder.transform(X_train)\n",
    "  X_test = encoder.transform(X_test)"
   ]
  },
  {
   "cell_type": "markdown",
   "id": "55169712",
   "metadata": {},
   "source": [
    "# 5. Outlier removing"
   ]
  },
  {
   "cell_type": "code",
   "execution_count": null,
   "id": "d0e661ca",
   "metadata": {},
   "outputs": [],
   "source": [
    "trimmer = OutlierTrimmer(\n",
    "capping_method=\"iqr\",\n",
    "tail=\"both\",\n",
    "fold=1.5,\n",
    ")\n",
    "\n",
    "trimmer.fit(X_train)\n",
    "X_train = trimmer.transform(X_train)\n",
    "X_test = trimmer.transform(X_test)\n",
    "y_train = y_train[y_train.index.isin(X_train.index)]\n",
    "y_test = y_test[y_test.index.isin(X_test.index)]"
   ]
  },
  {
   "cell_type": "markdown",
   "id": "b2aed405",
   "metadata": {},
   "source": [
    "# 6. Feature selection"
   ]
  },
  {
   "cell_type": "code",
   "execution_count": null,
   "id": "31bcb09b",
   "metadata": {},
   "outputs": [],
   "source": []
  },
  {
   "cell_type": "markdown",
   "id": "ae946fd4",
   "metadata": {},
   "source": [
    "# 7. Scaling"
   ]
  },
  {
   "cell_type": "code",
   "execution_count": null,
   "id": "73f1e881",
   "metadata": {},
   "outputs": [],
   "source": [
    "\n",
    "scaler = MinMaxScaler().set_output(transform=\"pandas\")\n",
    "scaler.fit(X_train)\n",
    "\n",
    "# transform train and test sets\n",
    "X_train= scaler.transform(X_train)\n",
    "X_test= scaler.transform(X_test)\n"
   ]
  },
  {
   "cell_type": "markdown",
   "id": "23894a32",
   "metadata": {},
   "source": [
    "# 8. Modeling"
   ]
  },
  {
   "cell_type": "code",
   "execution_count": null,
   "id": "06879354",
   "metadata": {},
   "outputs": [],
   "source": [
    "model = RidgeClassifier(alpha=1.0, class_weight=None, copy_X=True, fit_intercept=True,\n",
    "                max_iter=None, positive=False, random_state=123, solver='auto',\n",
    "                tol=0.0001)\n",
    "model.fit(X_train,y_train)\n",
    "model.predict(X_test)"
   ]
  }
 ],
 "metadata": {},
 "nbformat": 4,
 "nbformat_minor": 5
}
